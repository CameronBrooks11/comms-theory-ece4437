{
 "cells": [
  {
   "cell_type": "markdown",
   "metadata": {},
   "source": [
    "# Communications Theory"
   ]
  },
  {
   "cell_type": "markdown",
   "metadata": {},
   "source": [
    "## Prompts\n",
    "1. This is from a topic list for my advanced communication theory ece course for the final exam. For each topic give me a python code block with a which implements the topic as an equations and/or the all equations that it would depend on (include comments) and then a code block with markdown concisely explaining the topic, the functions made for it, and how this might be used to answer an exam question:\n",
    "2. "
   ]
  },
  {
   "cell_type": "markdown",
   "metadata": {},
   "source": [
    "## Requirements"
   ]
  },
  {
   "cell_type": "code",
   "execution_count": 202,
   "metadata": {},
   "outputs": [],
   "source": [
    "import math"
   ]
  },
  {
   "cell_type": "markdown",
   "metadata": {},
   "source": [
    "## Information Contained in a Random Symbol"
   ]
  },
  {
   "cell_type": "markdown",
   "metadata": {},
   "source": [
    "The information content of a random symbol can be computed using the formula:\n",
    "\n",
    "\\[ I(x) = -\\log_2(P(x)) \\]\n",
    "\n",
    "where \\( I(x) \\) is the information content of symbol \\( x \\) and \\( P(x) \\) is the probability of symbol \\( x \\). This formula is implemented in the `information` function. The function takes the probability of a symbol and returns its information content in bits. This concept is fundamental in understanding the amount of information a single symbol carries in a communication system."
   ]
  },
  {
   "cell_type": "code",
   "execution_count": 203,
   "metadata": {},
   "outputs": [
    {
     "name": "stdout",
     "output_type": "stream",
     "text": [
      "Information contained in a symbol with probability 0.2: 2.321928094887362 bits\n"
     ]
    }
   ],
   "source": [
    "def information_of_symbol(symbol_probability):\n",
    "    \"\"\"\n",
    "    Calculate the information contained in a random symbol.\n",
    "\n",
    "    Args:\n",
    "    symbol_probability (float): Probability of the occurrence of the symbol.\n",
    "\n",
    "    Returns:\n",
    "    float: Information content of the symbol in bits.\n",
    "    \"\"\"\n",
    "    return -math.log2(symbol_probability)\n",
    "\n",
    "# Example usage:\n",
    "probability_of_symbol = 0.2\n",
    "info = information_of_symbol(probability_of_symbol)\n",
    "print(f\"Information contained in a symbol with probability {probability_of_symbol}: {info} bits\")"
   ]
  },
  {
   "cell_type": "markdown",
   "metadata": {},
   "source": [
    "## Entropy of a Source\n",
    "\n",
    "Entropy measures the average information content per symbol of a source. It is calculated using the formula:\n",
    "\n",
    "\\[ H(X) = -\\sum_{i} P(x_i) \\log_2 P(x_i) \\]\n",
    "\n",
    "where \\( H(X) \\) is the entropy of the source, and \\( P(x_i) \\) are the probabilities of each symbol \\( x_i \\). The `entropy` function calculates the entropy of a source given a list of symbol probabilities. Entropy is a crucial concept in understanding the efficiency of information sources and coding schemes."
   ]
  },
  {
   "cell_type": "code",
   "execution_count": 204,
   "metadata": {},
   "outputs": [
    {
     "name": "stdout",
     "output_type": "stream",
     "text": [
      "Entropy of the source: 1.4854752972273344 bits\n"
     ]
    }
   ],
   "source": [
    "def entropy(probabilities):\n",
    "    \"\"\"\n",
    "    Calculate the entropy of a source.\n",
    "\n",
    "    Args:\n",
    "    probabilities (list): List of probabilities of each symbol.\n",
    "\n",
    "    Returns:\n",
    "    float: Entropy of the source in bits.\n",
    "    \"\"\"\n",
    "    return -sum(p * math.log2(p) for p in probabilities if p > 0)\n",
    "\n",
    "# Example usage:\n",
    "symbol_probabilities = [0.2, 0.3, 0.5]\n",
    "source_entropy = entropy(symbol_probabilities)\n",
    "print(f\"Entropy of the source: {source_entropy} bits\")"
   ]
  },
  {
   "cell_type": "markdown",
   "metadata": {},
   "source": [
    "## Symbol Rate\n",
    "\n",
    "Symbol rate, also known as baud rate, is defined as the number of symbol changes (modulation events) per second in a communication channel. The formula to calculate symbol rate is given by:\n",
    "\n",
    "\\[ R_s = B \\log_2(M) \\]\n",
    "\n",
    "where \\( R_s \\) is the symbol rate, \\( B \\) is the bandwidth of the channel, and \\( M \\) is the modulation level (number of symbols). The `symbol_rate` function computes the symbol rate given the bandwidth and modulation level. This concept is essential in digital communication systems to determine how quickly symbols are transmitted."
   ]
  },
  {
   "cell_type": "code",
   "execution_count": 205,
   "metadata": {},
   "outputs": [
    {
     "name": "stdout",
     "output_type": "stream",
     "text": [
      "Symbol rate: 2000.0 symbols/second\n"
     ]
    }
   ],
   "source": [
    "def symbol_rate(bandwidth, modulation_level):\n",
    "    \"\"\"\n",
    "    Calculate the symbol rate.\n",
    "\n",
    "    Args:\n",
    "    bandwidth (float): Bandwidth of the channel in Hz.\n",
    "    modulation_level (int): Number of levels in the modulation scheme.\n",
    "\n",
    "    Returns:\n",
    "    float: Symbol rate in symbols/second.\n",
    "    \"\"\"\n",
    "    return bandwidth * math.log2(modulation_level)\n",
    "\n",
    "# Example usage:\n",
    "bandwidth = 1000  # in Hz\n",
    "modulation_level = 4  # QPSK for example\n",
    "rate = symbol_rate(bandwidth, modulation_level)\n",
    "print(f\"Symbol rate: {rate} symbols/second\")"
   ]
  },
  {
   "cell_type": "markdown",
   "metadata": {},
   "source": [
    "## Information Rate\n",
    "\n",
    "Information rate is the rate at which information is transmitted over a communication channel, calculated as the product of symbol rate and symbol entropy. The formula is:\n",
    "\n",
    "\\[ R_I = R_s \\times H(X) \\]\n",
    "\n",
    "where \\( R_I \\) is the information rate, \\( R_s \\) is the symbol rate, and \\( H(X) \\) is the entropy of each symbol. The `information_rate` function calculates this rate, providing insight into the efficiency and capacity of communication systems."
   ]
  },
  {
   "cell_type": "code",
   "execution_count": 206,
   "metadata": {},
   "outputs": [
    {
     "name": "stdout",
     "output_type": "stream",
     "text": [
      "Information rate: 2970.9505944546686 bits/second\n"
     ]
    }
   ],
   "source": [
    "def information_rate(symbol_rate, symbol_entropy):\n",
    "    \"\"\"\n",
    "    Calculate the information rate.\n",
    "\n",
    "    Args:\n",
    "    symbol_rate (float): Symbol rate in symbols/second.\n",
    "    symbol_entropy (float): Entropy of each symbol in bits.\n",
    "\n",
    "    Returns:\n",
    "    float: Information rate in bits/second.\n",
    "    \"\"\"\n",
    "    return symbol_rate * symbol_entropy\n",
    "\n",
    "# Example usage:\n",
    "rate = symbol_rate(bandwidth, modulation_level)  # From previous example\n",
    "entropy_of_symbol = source_entropy  # From previous example\n",
    "info_rate = information_rate(rate, entropy_of_symbol)\n",
    "print(f\"Information rate: {info_rate} bits/second\")"
   ]
  },
  {
   "cell_type": "markdown",
   "metadata": {},
   "source": [
    "## Data (Bit) Rate\n",
    "\n",
    "Data rate, also known as bit rate, is the rate at which bits are transmitted in a communication channel. It is calculated by multiplying the symbol rate by the number of bits represented by each symbol:\n",
    "\n",
    "\\[ R_b = R_s \\times \\text{bits per symbol} \\]\n",
    "\n",
    "where \\( R_b \\) is the bit rate, \\( R_s \\) is the symbol rate, and \"bits per symbol\" represents how many bits are encoded in each symbol (determined by the modulation scheme). The `bit_rate` function provides a straightforward way to calculate this, which is crucial for assessing the bandwidth efficiency of different modulation schemes."
   ]
  },
  {
   "cell_type": "code",
   "execution_count": 207,
   "metadata": {},
   "outputs": [
    {
     "name": "stdout",
     "output_type": "stream",
     "text": [
      "Data (bit) rate: 4000 bits/second\n"
     ]
    }
   ],
   "source": [
    "def bit_rate(symbol_rate, bits_per_symbol):\n",
    "    \"\"\"\n",
    "    Calculate the data (bit) rate.\n",
    "\n",
    "    Args:\n",
    "    symbol_rate (float): Symbol rate in symbols/second.\n",
    "    bits_per_symbol (int): Number of bits represented by each symbol.\n",
    "\n",
    "    Returns:\n",
    "    float: Data rate in bits/second.\n",
    "    \"\"\"\n",
    "    return symbol_rate * bits_per_symbol\n",
    "\n",
    "# Example usage:\n",
    "symbol_rate = 2000  # symbols/second\n",
    "bits_per_symbol = 2  # for example in QPSK\n",
    "data_rate = bit_rate(symbol_rate, bits_per_symbol)\n",
    "print(f\"Data (bit) rate: {data_rate} bits/second\")\n"
   ]
  },
  {
   "cell_type": "markdown",
   "metadata": {},
   "source": [
    "## Sampling Rate and Bandwidth of a Signal\n",
    "\n",
    "The Nyquist-Shannon sampling theorem states that the sampling rate of a signal must be at least twice the bandwidth of the signal to accurately reconstruct it. The formula is:\n",
    "\n",
    "\\[ f_s \\geq 2B \\]\n",
    "\n",
    "where \\( f_s \\) is the sampling rate and \\( B \\) is the bandwidth of the signal. The `sampling_rate` function calculates the minimum sampling rate needed for a given bandwidth, which is vital in digital signal processing and communications to prevent aliasing.\n"
   ]
  },
  {
   "cell_type": "code",
   "execution_count": 208,
   "metadata": {},
   "outputs": [
    {
     "name": "stdout",
     "output_type": "stream",
     "text": [
      "Minimum sampling rate: 6000 samples/second\n"
     ]
    }
   ],
   "source": [
    "def sampling_rate(bandwidth):\n",
    "    \"\"\"\n",
    "    Calculate the minimum sampling rate for a given bandwidth.\n",
    "\n",
    "    Args:\n",
    "    bandwidth (float): Bandwidth of the signal in Hz.\n",
    "\n",
    "    Returns:\n",
    "    float: Minimum sampling rate in samples/second.\n",
    "    \"\"\"\n",
    "    return 2 * bandwidth  # Nyquist rate\n",
    "\n",
    "# Example usage:\n",
    "bandwidth = 3000  # Hz\n",
    "min_sampling_rate = sampling_rate(bandwidth)\n",
    "print(f\"Minimum sampling rate: {min_sampling_rate} samples/second\")\n"
   ]
  },
  {
   "cell_type": "markdown",
   "metadata": {},
   "source": [
    "## Number of Levels of Quantization and Number of Symbols\n",
    "\n",
    "In digital systems, quantization levels refer to the discrete values that an analog signal can be represented as. The number of quantization levels is given by:\n",
    "\n",
    "\\[ L = 2^n \\]\n",
    "\n",
    "where \\( L \\) is the number of levels and \\( n \\) is the number of bits used for quantization. The `quantization_levels` function calculates this based on the number of bits per symbol. This concept is essential in understanding the resolution and accuracy of analog-to-digital conversion processes.\n"
   ]
  },
  {
   "cell_type": "code",
   "execution_count": 209,
   "metadata": {},
   "outputs": [
    {
     "name": "stdout",
     "output_type": "stream",
     "text": [
      "Number of quantization levels: 8\n"
     ]
    }
   ],
   "source": [
    "def quantization_levels(bits):\n",
    "    \"\"\"\n",
    "    Calculate the number of quantization levels.\n",
    "\n",
    "    Args:\n",
    "    bits (int): Number of bits per symbol.\n",
    "\n",
    "    Returns:\n",
    "    int: Number of quantization levels.\n",
    "    \"\"\"\n",
    "    return 2 ** bits\n",
    "\n",
    "# Example usage:\n",
    "bits_per_symbol = 3\n",
    "levels = quantization_levels(bits_per_symbol)\n",
    "print(f\"Number of quantization levels: {levels}\")\n"
   ]
  },
  {
   "cell_type": "markdown",
   "metadata": {},
   "source": [
    "## Huffman Coding and Decoding\n",
    "\n",
    "Huffman coding is a lossless data compression algorithm. The basic idea is to assign variable-length codes to input characters, with shorter codes assigned to more frequent characters. This results in a more efficient representation of data.\n",
    "\n",
    "### Implementation\n",
    "- `build_huffman_tree`: Builds the Huffman tree based on character frequencies.\n",
    "- `huffman_coding`: Generates Huffman codes for each character in the input string.\n",
    "- `huffman_decoding`: Decodes a string encoded with Huffman coding.\n",
    "\n",
    "### Usage\n",
    "This can be used to demonstrate how Huffman coding compresses data and how the encoded data can be accurately decoded, which is relevant for exam questions on data compression algorithms.\n"
   ]
  },
  {
   "cell_type": "code",
   "execution_count": 210,
   "metadata": {},
   "outputs": [
    {
     "name": "stdout",
     "output_type": "stream",
     "text": [
      "Encoded String: 1000000011110011110111100111101100101010111001111010010010011000000111001011101001101101101000110001110111010010100101010111000101111100011111111111001000000\n",
      "Decoded String: this is an example for huffman encoding\n"
     ]
    }
   ],
   "source": [
    "import heapq\n",
    "import collections\n",
    "\n",
    "def build_huffman_tree(frequency):\n",
    "    heap = [[weight, [symbol, \"\"]] for symbol, weight in frequency.items()]\n",
    "    heapq.heapify(heap)\n",
    "    while len(heap) > 1:\n",
    "        lo = heapq.heappop(heap)\n",
    "        hi = heapq.heappop(heap)\n",
    "        for pair in lo[1:]:\n",
    "            pair[1] = '0' + pair[1]\n",
    "        for pair in hi[1:]:\n",
    "            pair[1] = '1' + pair[1]\n",
    "        heapq.heappush(heap, [lo[0] + hi[0]] + lo[1:] + hi[1:])\n",
    "    return heap[0]\n",
    "\n",
    "def huffman_coding(s):\n",
    "    frequency = collections.Counter(s)\n",
    "    tree = build_huffman_tree(frequency)\n",
    "    huffman_code = {}\n",
    "    for item in tree[1:]:\n",
    "        symbol = item[0]\n",
    "        code = item[1]\n",
    "        huffman_code[symbol] = code\n",
    "    return huffman_code\n",
    "\n",
    "def huffman_decoding(encoded, code):\n",
    "    reverse_code = {v: k for k, v in code.items()}\n",
    "    current = \"\"\n",
    "    decoded = \"\"\n",
    "    for bit in encoded:\n",
    "        current += bit\n",
    "        if current in reverse_code:\n",
    "            decoded += reverse_code[current]\n",
    "            current = \"\"\n",
    "    return decoded\n",
    "\n",
    "# Example usage\n",
    "input_string = \"this is an example for huffman encoding\"\n",
    "code = huffman_coding(input_string)\n",
    "encoded_string = ''.join(code[ch] for ch in input_string)\n",
    "decoded_string = huffman_decoding(encoded_string, code)\n",
    "\n",
    "print(\"Encoded String:\", encoded_string)\n",
    "print(\"Decoded String:\", decoded_string)\n"
   ]
  },
  {
   "cell_type": "markdown",
   "metadata": {},
   "source": [
    "## Lempel-Ziv Coding and Decoding\n",
    "\n",
    "Lempel-Ziv (LZ) coding is a form of lossless data compression. It works by finding repeated sequences in the data and replacing them with references to a single copy of that sequence.\n",
    "\n",
    "### Implementation\n",
    "- `lz_compress`: Compresses a string using LZ77 algorithm (via `zlib`).\n",
    "- `lz_decompress`: Decompresses the LZ77 compressed data.\n",
    "\n",
    "### Usage\n",
    "This demonstrates how LZ compression reduces data size by eliminating redundancies, which is a key concept in the study of data compression techniques.\n"
   ]
  },
  {
   "cell_type": "code",
   "execution_count": 211,
   "metadata": {},
   "outputs": [
    {
     "name": "stdout",
     "output_type": "stream",
     "text": [
      "Compressed Data: b'x\\x9c\\x0b\\xc9\\xc8,V\\x00\\xa2\\xc4<\\x85\\xd4\\x8a\\xc4\\xdc\\x82\\x9cT\\x85\\xb4\\xfc\"\\x05\\x9f(\\x85\\xe4\\xfc\\xdc\\x82\\xa2\\xd4\\xe2\\xe2\\xcc\\xfc<\\x00\\xf98\\r\\x8f'\n",
      "Decompressed Data: This is an example for LZ compression\n"
     ]
    }
   ],
   "source": [
    "import zlib\n",
    "\n",
    "def lz_compress(data):\n",
    "    compressed = zlib.compress(data.encode())\n",
    "    return compressed\n",
    "\n",
    "def lz_decompress(compressed_data):\n",
    "    decompressed = zlib.decompress(compressed_data).decode()\n",
    "    return decompressed\n",
    "\n",
    "# Example usage\n",
    "input_string = \"This is an example for LZ compression\"\n",
    "compressed_data = lz_compress(input_string)\n",
    "decompressed_data = lz_decompress(compressed_data)\n",
    "\n",
    "print(\"Compressed Data:\", compressed_data)\n",
    "print(\"Decompressed Data:\", decompressed_data)\n"
   ]
  },
  {
   "cell_type": "markdown",
   "metadata": {},
   "source": [
    "## Error Correction Coding: Parity Bit Check Code\n",
    "\n",
    "Get it to do this: **Implementing all these error correction codes in a single response would be quite extensive. However, I can demonstrate a simple parity bit check code as an example:**\n",
    "\n",
    "The parity bit is a simple error detection code that adds a single bit to the end of a string of binary data. This bit represents whether the number of 1's in the string is even or odd.\n",
    "\n",
    "### Implementation\n",
    "- `add_parity_bit`: Adds a parity bit to the data.\n",
    "- `check_parity_bit`: Checks if the data with the parity bit is correct.\n",
    "\n",
    "### Usage\n",
    "In an exam context, this can be used to demonstrate basic error detection concepts and the implementation of simple error detection codes.\n"
   ]
  },
  {
   "cell_type": "code",
   "execution_count": 212,
   "metadata": {},
   "outputs": [
    {
     "name": "stdout",
     "output_type": "stream",
     "text": [
      "Data with Parity Bit: 10101010\n",
      "Parity Check: True\n"
     ]
    }
   ],
   "source": [
    "def add_parity_bit(data):\n",
    "    parity = data.count('1') % 2\n",
    "    return data + str(parity)\n",
    "\n",
    "def check_parity_bit(data_with_parity):\n",
    "    parity = data_with_parity.count('1') % 2\n",
    "    return parity == 0\n",
    "\n",
    "# Example usage\n",
    "data = '1010101'\n",
    "data_with_parity = add_parity_bit(data)\n",
    "print(\"Data with Parity Bit:\", data_with_parity)\n",
    "print(\"Parity Check:\", check_parity_bit(data_with_parity))\n"
   ]
  },
  {
   "cell_type": "markdown",
   "metadata": {},
   "source": [
    "## Calculation of Number of Errors in a Code-Word\n",
    "\n",
    "The number of errors in a codeword can be determined by calculating the Hamming distance between the received codeword and the correct codeword.\n",
    "\n",
    "### Implementation\n",
    "- `hamming_distance`: Computes the Hamming distance between two strings.\n",
    "\n",
    "### Usage\n",
    "This concept is important for understanding error detection and correction in digital communication systems, and it can be used in exams to analyze the error performance of different coding schemes.\n"
   ]
  },
  {
   "cell_type": "code",
   "execution_count": 213,
   "metadata": {},
   "outputs": [
    {
     "name": "stdout",
     "output_type": "stream",
     "text": [
      "Number of errors in the codeword: 1\n"
     ]
    }
   ],
   "source": [
    "def hamming_distance(str1, str2):\n",
    "    if len(str1) != len(str2):\n",
    "        raise ValueError(\"Strings must be of equal length\")\n",
    "    return sum(c1 != c2 for c1, c2 in zip(str1, str2))\n",
    "\n",
    "# Example usage\n",
    "correct_codeword = '1010101'\n",
    "received_codeword = '1011101'\n",
    "errors = hamming_distance(correct_codeword, received_codeword)\n",
    "print(f\"Number of errors in the codeword: {errors}\")"
   ]
  },
  {
   "cell_type": "markdown",
   "metadata": {},
   "source": [
    "## Capacity of the Discrete Channel\n",
    "\n",
    "The capacity of a discrete channel can be calculated using the mutual information between the input and output of the channel.\n",
    "\n",
    "### Implementation\n",
    "- `discrete_channel_capacity`: Calculates the channel capacity given the input probability distribution and the channel's conditional probability matrix.\n",
    "\n",
    "### Usage\n",
    "This function is useful in understanding the maximum rate at which information can be transmitted over a discrete communication channel with negligible error, which is a critical concept in digital communications theory.\n"
   ]
  },
  {
   "cell_type": "code",
   "execution_count": 214,
   "metadata": {},
   "outputs": [
    {
     "name": "stdout",
     "output_type": "stream",
     "text": [
      "Capacity of the discrete channel: 0.39731260974948646 bits\n"
     ]
    }
   ],
   "source": [
    "import numpy as np\n",
    "\n",
    "def discrete_channel_capacity(P, Q):\n",
    "    \"\"\"\n",
    "    Calculate the capacity of a discrete channel.\n",
    "\n",
    "    Args:\n",
    "    P (numpy.ndarray): Probability distribution of the input.\n",
    "    Q (numpy.ndarray): Conditional probability matrix of the channel.\n",
    "\n",
    "    Returns:\n",
    "    float: Channel capacity in bits.\n",
    "    \"\"\"\n",
    "    # Calculate the joint probability matrix\n",
    "    joint_prob = P[:, np.newaxis] * Q\n",
    "\n",
    "    # Marginal probability of the output\n",
    "    output_prob = np.sum(joint_prob, axis=0)\n",
    "\n",
    "    # Calculate mutual information for each input-output pair\n",
    "    mutual_info = np.sum(joint_prob * np.log2(joint_prob / (P[:, np.newaxis] * output_prob)), where=(joint_prob != 0))\n",
    "\n",
    "    return mutual_info\n",
    "\n",
    "# Example usage\n",
    "P = np.array([0.5, 0.5])  # Input probability distribution\n",
    "Q = np.array([[0.9, 0.1], [0.2, 0.8]])  # Conditional probability matrix of the channel\n",
    "capacity = discrete_channel_capacity(P, Q)\n",
    "print(f\"Capacity of the discrete channel: {capacity} bits\")\n"
   ]
  },
  {
   "cell_type": "markdown",
   "metadata": {},
   "source": [
    "## Capacity of the Continuous Channel (Shannon's Formula)\n",
    "\n",
    "Shannon's formula for the capacity of a continuous channel relates the bandwidth, signal-to-noise ratio, and channel capacity.\n",
    "\n",
    "### Implementation\n",
    "- `continuous_channel_capacity`: Calculates the channel capacity given the bandwidth and signal-to-noise ratio.\n",
    "\n",
    "### Usage\n",
    "This concept is essential in communications theory for determining the upper limit on the rate at which data can be transmitted over a band-limited noisy channel without error.\n"
   ]
  },
  {
   "cell_type": "code",
   "execution_count": 215,
   "metadata": {},
   "outputs": [
    {
     "name": "stdout",
     "output_type": "stream",
     "text": [
      "Capacity of the continuous channel: 3459.431618637297 bits/second\n"
     ]
    }
   ],
   "source": [
    "def continuous_channel_capacity(B, SNR):\n",
    "    \"\"\"\n",
    "    Calculate the capacity of a continuous channel using Shannon's formula.\n",
    "\n",
    "    Args:\n",
    "    B (float): Bandwidth of the channel in Hz.\n",
    "    SNR (float): Signal-to-Noise Ratio.\n",
    "\n",
    "    Returns:\n",
    "    float: Channel capacity in bits per second.\n",
    "    \"\"\"\n",
    "    return B * np.log2(1 + SNR)\n",
    "\n",
    "# Example usage\n",
    "bandwidth = 1000  # 1 kHz\n",
    "signal_to_noise_ratio = 10  # Assume SNR of 10\n",
    "capacity = continuous_channel_capacity(bandwidth, signal_to_noise_ratio)\n",
    "print(f\"Capacity of the continuous channel: {capacity} bits/second\")\n"
   ]
  },
  {
   "cell_type": "markdown",
   "metadata": {},
   "source": [
    "## Noise Spectral Density and Noise Temperature\n",
    "\n",
    "Noise spectral density is a measure of the power density of noise in a system, often as a function of frequency.\n",
    "\n",
    "### Implementation\n",
    "- `noise_spectral_density`: Calculates the noise spectral density given the noise figure and temperature.\n",
    "\n",
    "### Usage\n",
    "This calculation is essential in understanding the noise characteristics of communication systems, particularly for analyzing system performance in terms of noise.\n"
   ]
  },
  {
   "cell_type": "code",
   "execution_count": 216,
   "metadata": {},
   "outputs": [
    {
     "name": "stdout",
     "output_type": "stream",
     "text": [
      "Noise Spectral Density: 8.0077642e-21 W/Hz\n"
     ]
    }
   ],
   "source": [
    "def noise_spectral_density(noise_figure, temperature=290):\n",
    "    \"\"\"\n",
    "    Calculate the noise spectral density.\n",
    "\n",
    "    Args:\n",
    "    noise_figure (float): Noise figure of the system (dimensionless).\n",
    "    temperature (float): Temperature in Kelvin. Default is 290K (standard).\n",
    "\n",
    "    Returns:\n",
    "    float: Noise spectral density in W/Hz.\n",
    "    \"\"\"\n",
    "    k = 1.380649e-23  # Boltzmann's constant in J/K\n",
    "    return noise_figure * k * temperature\n",
    "\n",
    "# Example usage\n",
    "noise_figure = 2  # Assume a noise figure\n",
    "spectral_density = noise_spectral_density(noise_figure)\n",
    "print(f\"Noise Spectral Density: {spectral_density} W/Hz\")\n"
   ]
  },
  {
   "cell_type": "markdown",
   "metadata": {},
   "source": [
    "## Friis's Formula for Noise Temperature of a Receiver\n",
    "\n",
    "Friis's formula for noise temperature is used to calculate the overall noise temperature of a receiver based on the noise temperature and gain of each component.\n",
    "\n",
    "### Implementation\n",
    "- `friis_noise_temperature`: Calculates the overall noise temperature of a receiver.\n",
    "\n",
    "### Usage\n",
    "Understanding this formula is crucial for analyzing the noise performance of complex receiver systems in communication theory.\n"
   ]
  },
  {
   "cell_type": "code",
   "execution_count": 217,
   "metadata": {},
   "outputs": [
    {
     "name": "stdout",
     "output_type": "stream",
     "text": [
      "Overall noise temperature of the receiver: 308.3333333333333 Kelvin\n"
     ]
    }
   ],
   "source": [
    "def friis_noise_temperature(T_components, G_components):\n",
    "    \"\"\"\n",
    "    Calculate the overall noise temperature of a receiver using Friis's formula.\n",
    "\n",
    "    Args:\n",
    "    T_components (list): List of noise temperatures of each component in Kelvin.\n",
    "    G_components (list): List of gains of each component (dimensionless).\n",
    "\n",
    "    Returns:\n",
    "    float: Overall noise temperature of the receiver in Kelvin.\n",
    "    \"\"\"\n",
    "    T_total = T_components[0]\n",
    "    for i in range(1, len(T_components)):\n",
    "        T_total += (T_components[i] / np.prod(G_components[:i]))\n",
    "    return T_total\n",
    "\n",
    "# Example usage\n",
    "T_components = [290, 170, 200]  # Noise temperatures of components\n",
    "G_components = [10, 15, 20]  # Gains of components\n",
    "noise_temperature = friis_noise_temperature(T_components, G_components)\n",
    "print(f\"Overall noise temperature of the receiver: {noise_temperature} Kelvin\")\n"
   ]
  },
  {
   "cell_type": "markdown",
   "metadata": {},
   "source": [
    "## Friis's Formula for Received Power\n",
    "\n",
    "Friis's transmission equation is used to calculate the power received by an antenna from another antenna under line-of-sight conditions.\n",
    "\n",
    "### Implementation\n",
    "- `friis_transmission_equation`: Calculates the received power given the transmitted power, antenna gains, wavelength, and distance.\n",
    "\n",
    "### Usage\n",
    "This formula is vital in wireless communication for estimating the power received at a distance from a transmitting antenna, which is important for link budget analysis.\n"
   ]
  },
  {
   "cell_type": "code",
   "execution_count": 218,
   "metadata": {},
   "outputs": [
    {
     "name": "stdout",
     "output_type": "stream",
     "text": [
      "Received power: 1.2823462304733375e-05 Watts\n"
     ]
    }
   ],
   "source": [
    "def friis_transmission_equation(Pt, Gt, Gr, λ, d):\n",
    "    \"\"\"\n",
    "    Calculate the received power using Friis transmission equation.\n",
    "\n",
    "    Args:\n",
    "    Pt (float): Transmitted power in Watts.\n",
    "    Gt (float): Transmitting antenna gain (dimensionless).\n",
    "    Gr (float): Receiving antenna gain (dimensionless).\n",
    "    λ (float): Wavelength of the signal in meters.\n",
    "    d (float): Distance between antennas in meters.\n",
    "\n",
    "    Returns:\n",
    "    float: Received power in Watts.\n",
    "    \"\"\"\n",
    "    return (Pt * Gt * Gr * (λ / (4 * np.pi * d)) ** 2)\n",
    "\n",
    "# Example usage\n",
    "transmitted_power = 100  # in Watts\n",
    "transmitting_gain = 15\n",
    "receiving_gain = 15\n",
    "wavelength = 0.3  # in meters\n",
    "distance = 1000  # in meters\n",
    "received_power = friis_transmission_equation(transmitted_power, transmitting_gain, receiving_gain, wavelength, distance)\n",
    "print(f\"Received power: {received_power} Watts\")\n"
   ]
  },
  {
   "cell_type": "markdown",
   "metadata": {},
   "source": [
    "## Calculation of Capacity Using Friis's Formulas and Shannon's Formula\n",
    "\n",
    "This process combines Friis's formula for calculating received power in a wireless link and Shannon's formula to determine the channel capacity.\n",
    "\n",
    "### Implementation\n",
    "- `channel_capacity_with_friis_and_shannon`: Calculates the channel capacity using the received power (from Friis's formula), noise characteristics, and bandwidth.\n",
    "\n",
    "### Usage\n",
    "This combined approach is essential for understanding how physical layer characteristics (like power, distance, and antenna gains) and channel properties (like bandwidth and noise) determine the ultimate capacity of a communication channel, a key topic in advanced communication theory exams.\n"
   ]
  },
  {
   "cell_type": "code",
   "execution_count": 219,
   "metadata": {},
   "outputs": [
    {
     "name": "stdout",
     "output_type": "stream",
     "text": [
      "Channel Capacity: 40542.451579770874 bits/second\n"
     ]
    }
   ],
   "source": [
    "def channel_capacity_with_friis_and_shannon(Pt, Gt, Gr, λ, d, bandwidth, noise_figure):\n",
    "    \"\"\"\n",
    "    Calculate channel capacity using Friis's formula for received power and Shannon's formula.\n",
    "\n",
    "    Args:\n",
    "    Pt, Gt, Gr, λ, d: Parameters for Friis's transmission equation.\n",
    "    bandwidth (float): Bandwidth of the channel in Hz.\n",
    "    noise_figure (float): Noise figure of the receiver (dimensionless).\n",
    "\n",
    "    Returns:\n",
    "    float: Channel capacity in bits per second.\n",
    "    \"\"\"\n",
    "    # Calculate received power using Friis's formula\n",
    "    Pr = friis_transmission_equation(Pt, Gt, Gr, λ, d)\n",
    "\n",
    "    # Calculate noise spectral density\n",
    "    N0 = noise_spectral_density(noise_figure)\n",
    "\n",
    "    # Calculate Signal to Noise Ratio\n",
    "    SNR = Pr / (N0 * bandwidth)\n",
    "\n",
    "    # Calculate channel capacity using Shannon's formula\n",
    "    capacity = continuous_channel_capacity(bandwidth, SNR)\n",
    "    return capacity\n",
    "\n",
    "# Example usage\n",
    "channel_capacity = channel_capacity_with_friis_and_shannon(\n",
    "    transmitted_power, transmitting_gain, receiving_gain, \n",
    "    wavelength, distance, bandwidth, noise_figure\n",
    ")\n",
    "print(f\"Channel Capacity: {channel_capacity} bits/second\")\n"
   ]
  },
  {
   "cell_type": "markdown",
   "metadata": {},
   "source": [
    "## Pulse Coded Modulation and Raised Cosine Pulse Shaping\n",
    "\n",
    "Pulse coded modulation (PCM) is a method used to digitally represent sampled analog signals. Raised cosine pulse shaping is a technique used in PCM to reduce the bandwidth while limiting intersymbol interference (ISI).\n",
    "\n",
    "### Implementation\n",
    "- `raised_cosine`: Generates a raised cosine pulse for given time array, roll-off factor, and symbol period.\n",
    "\n",
    "### Usage\n",
    "This function can be used to illustrate how raised cosine pulse shaping works in PCM systems, a key concept in understanding digital signal processing and modulation techniques for digital communication systems.\n"
   ]
  },
  {
   "cell_type": "code",
   "execution_count": 220,
   "metadata": {},
   "outputs": [
    {
     "data": {
      "image/png": "[encoded data removed]",
      "text/plain": [
       "<Figure size 640x480 with 1 Axes>"
      ]
     },
     "metadata": {},
     "output_type": "display_data"
    }
   ],
   "source": [
    "import numpy as np\n",
    "import matplotlib.pyplot as plt\n",
    "\n",
    "def raised_cosine(t, beta, T):\n",
    "    \"\"\"\n",
    "    Generate a raised cosine pulse.\n",
    "\n",
    "    Args:\n",
    "    t (numpy.ndarray): Time array.\n",
    "    beta (float): Roll-off factor (0 <= beta <= 1).\n",
    "    T (float): Symbol period.\n",
    "\n",
    "    Returns:\n",
    "    numpy.ndarray: Raised cosine pulse values.\n",
    "    \"\"\"\n",
    "    if beta == 0:\n",
    "        return np.sinc(t / T)\n",
    "    numerator = np.sin(np.pi * t / T) * np.cos(np.pi * beta * t / T)\n",
    "    denominator = (1 - (2 * beta * t / T) ** 2) * (np.pi * t / T)\n",
    "    return numerator / denominator\n",
    "\n",
    "# Time vector\n",
    "t = np.linspace(-5, 5, 1000)\n",
    "\n",
    "# Raised cosine pulse parameters\n",
    "beta = 0.5  # Roll-off factor\n",
    "T = 1       # Symbol period\n",
    "\n",
    "# Generate pulse\n",
    "pulse = raised_cosine(t, beta, T)\n",
    "\n",
    "# Plot\n",
    "plt.plot(t, pulse)\n",
    "plt.title('Raised Cosine Pulse')\n",
    "plt.xlabel('Time')\n",
    "plt.ylabel('Amplitude')\n",
    "plt.grid()\n",
    "plt.show()\n"
   ]
  },
  {
   "cell_type": "markdown",
   "metadata": {},
   "source": [
    "## Sampling of Random Source\n",
    "\n",
    "Sampling of a random source refers to the process of generating samples from a specific probability distribution.\n",
    "\n",
    "### Implementation\n",
    "- `sample_random_source`: Generates samples from a given distribution (e.g., normal, uniform) with specified parameters.\n",
    "\n",
    "### Usage\n",
    "This function can be used to demonstrate the concept of sampling in signal processing and communication systems, particularly for understanding the statistical properties of signals and noise in these systems.\n"
   ]
  },
  {
   "cell_type": "code",
   "execution_count": 221,
   "metadata": {},
   "outputs": [
    {
     "data": {
      "image/png": "[encoded data removed]",
      "text/plain": [
       "<Figure size 640x480 with 1 Axes>"
      ]
     },
     "metadata": {},
     "output_type": "display_data"
    }
   ],
   "source": [
    "import scipy.stats as stats\n",
    "\n",
    "def sample_random_source(distribution, params, size=1):\n",
    "    \"\"\"\n",
    "    Sample from a given random source distribution.\n",
    "\n",
    "    Args:\n",
    "    distribution (str): Name of the distribution (e.g., 'normal', 'uniform').\n",
    "    params (dict): Parameters of the distribution.\n",
    "    size (int): Number of samples to generate.\n",
    "\n",
    "    Returns:\n",
    "    numpy.ndarray: Random samples.\n",
    "    \"\"\"\n",
    "    if distribution == 'normal':\n",
    "        return np.random.normal(params['mean'], params['std'], size)\n",
    "    elif distribution == 'uniform':\n",
    "        return np.random.uniform(params['low'], params['high'], size)\n",
    "    # Add more distributions as needed\n",
    "    else:\n",
    "        raise ValueError(\"Unsupported distribution\")\n",
    "\n",
    "# Example usage\n",
    "samples = sample_random_source('normal', {'mean': 0, 'std': 1}, 1000)\n",
    "\n",
    "# Plot histogram\n",
    "plt.hist(samples, bins=30, density=True)\n",
    "plt.title('Histogram of Normally Distributed Samples')\n",
    "plt.show()\n"
   ]
  },
  {
   "cell_type": "markdown",
   "metadata": {},
   "source": [
    "## Q(x) Function and Calculation of Probabilities Related to Gaussian Distribution\n",
    "\n",
    "The Q-function is a standard way to represent the tail probabilities of a Gaussian distribution. It is used extensively in communications theory to calculate probabilities of error.\n",
    "\n",
    "### Implementation\n",
    "- `Q_function`: Calculates the Q-function for a given value, representing the probability that a Gaussian random variable will exceed that value.\n",
    "\n",
    "### Usage\n",
    "Understanding the Q-function is crucial for calculating error probabilities in digital communication systems, especially for analyzing the performance of modulation schemes under Gaussian noise conditions.\n"
   ]
  },
  {
   "cell_type": "code",
   "execution_count": 222,
   "metadata": {},
   "outputs": [
    {
     "name": "stdout",
     "output_type": "stream",
     "text": [
      "Q(1.5) = 0.06680720126885806\n"
     ]
    }
   ],
   "source": [
    "from scipy.stats import norm\n",
    "\n",
    "def Q_function(x):\n",
    "    \"\"\"\n",
    "    Calculate the Q-function, which is the tail probability of the Gaussian distribution.\n",
    "\n",
    "    Args:\n",
    "    x (float): Value for which Q-function is calculated.\n",
    "\n",
    "    Returns:\n",
    "    float: Q-function value.\n",
    "    \"\"\"\n",
    "    return norm.sf(x)\n",
    "\n",
    "# Example usage\n",
    "x_value = 1.5\n",
    "q_result = Q_function(x_value)\n",
    "print(f\"Q({x_value}) = {q_result}\")\n"
   ]
  },
  {
   "cell_type": "markdown",
   "metadata": {},
   "source": [
    "## Inverse Q(x) Function and Calculation of Required SNR for a Given Performance\n",
    "\n",
    "The inverse Q-function is used to determine the value corresponding to a given probability in a Gaussian distribution. It is essential for calculating the required signal-to-noise ratio (SNR) for a desired error performance in communication systems.\n",
    "\n",
    "### Implementation\n",
    "- `inverse_Q_function`: Calculates the inverse of the Q-function for a given probability.\n",
    "- `required_SNR`: Calculates the required SNR for a given performance level.\n",
    "\n",
    "### Usage\n",
    "This is particularly important in the context of digital communication system design, where determining the required SNR for a specific bit error rate is fundamental for assessing system performance.\n"
   ]
  },
  {
   "cell_type": "code",
   "execution_count": 223,
   "metadata": {},
   "outputs": [
    {
     "name": "stdout",
     "output_type": "stream",
     "text": [
      "Required SNR for the given performance: 0.5298316995714458 dB\n"
     ]
    }
   ],
   "source": [
    "def inverse_Q_function(p):\n",
    "    \"\"\"\n",
    "    Calculate the inverse Q-function.\n",
    "\n",
    "    Args:\n",
    "    p (float): Probability value.\n",
    "\n",
    "    Returns:\n",
    "    float: Value corresponding to the given probability in the Gaussian distribution.\n",
    "    \"\"\"\n",
    "    return norm.isf(p)\n",
    "\n",
    "def required_SNR(Q_inv, Eb_No_dB):\n",
    "    \"\"\"\n",
    "    Calculate the required SNR for a given performance.\n",
    "\n",
    "    Args:\n",
    "    Q_inv (float): Inverse Q-function value.\n",
    "    Eb_No_dB (float): Energy per bit to noise power spectral density ratio in dB.\n",
    "\n",
    "    Returns:\n",
    "    float: Required SNR in dB.\n",
    "    \"\"\"\n",
    "    return 20 * np.log10(Q_inv / np.sqrt(2 * 10 ** (Eb_No_dB / 10)))\n",
    "\n",
    "# Example usage\n",
    "probability_error = 1e-6\n",
    "Q_inv = inverse_Q_function(probability_error)\n",
    "Eb_No_dB = 10  # Example value\n",
    "required_snr = required_SNR(Q_inv, Eb_No_dB)\n",
    "print(f\"Required SNR for the given performance: {required_snr} dB\")\n"
   ]
  },
  {
   "cell_type": "markdown",
   "metadata": {},
   "source": [
    "## Optimal Matching Filter for a Given Shape of Pulse\n",
    "\n",
    "The optimal matching filter for a given pulse shape is crucial in digital communication for maximizing the signal-to-noise ratio (SNR) at the detector input.\n",
    "\n",
    "### Implementation\n",
    "- `optimal_matching_filter`: Generates the optimal matching filter, which is the time-reversed and conjugated version of the given pulse shape.\n",
    "\n",
    "### Usage\n",
    "This concept is fundamental in signal processing for communication systems, particularly for designing filters that maximize the detection of transmitted signals while minimizing the effects of noise.\n"
   ]
  },
  {
   "cell_type": "code",
   "execution_count": 224,
   "metadata": {},
   "outputs": [
    {
     "data": {
      "image/png": "[encoded data removed]",
      "text/plain": [
       "<Figure size 640x480 with 1 Axes>"
      ]
     },
     "metadata": {},
     "output_type": "display_data"
    }
   ],
   "source": [
    "import numpy as np\n",
    "import scipy.signal as signal\n",
    "\n",
    "def optimal_matching_filter(pulse_shape, sampling_rate):\n",
    "    \"\"\"\n",
    "    Generate an optimal matching filter for a given pulse shape.\n",
    "\n",
    "    Args:\n",
    "    pulse_shape (numpy.ndarray): The shape of the pulse.\n",
    "    sampling_rate (float): The sampling rate of the system.\n",
    "\n",
    "    Returns:\n",
    "    numpy.ndarray: The impulse response of the optimal matching filter.\n",
    "    \"\"\"\n",
    "    # The optimal matching filter is the time-reversed and conjugated version of the pulse shape\n",
    "    return np.conj(pulse_shape[::-1])\n",
    "\n",
    "# Example usage\n",
    "sampling_rate = 1000  # 1000 Hz\n",
    "t = np.linspace(-1, 1, sampling_rate)\n",
    "pulse_shape = signal.windows.gaussian(sampling_rate, std=50)\n",
    "matching_filter = optimal_matching_filter(pulse_shape, sampling_rate)\n",
    "\n",
    "# Plotting the filter (optional)\n",
    "import matplotlib.pyplot as plt\n",
    "plt.plot(t, matching_filter)\n",
    "plt.title('Optimal Matching Filter')\n",
    "plt.xlabel('Time')\n",
    "plt.ylabel('Amplitude')\n",
    "plt.grid()\n",
    "plt.show()"
   ]
  },
  {
   "cell_type": "markdown",
   "metadata": {},
   "source": [
    "## Correlation Receiver for Binary Modulation\n",
    "\n",
    "A correlation receiver is used in binary modulation systems to detect the transmitted bit by correlating the received signal with a reference signal.\n",
    "\n",
    "### Implementation\n",
    "- `correlation_receiver`: Correlates the received signal with a reference signal and decides the transmitted bit based on the result.\n",
    "\n",
    "### Usage\n",
    "This function demonstrates the fundamental principle of detection in digital communication systems, especially in binary modulation schemes where the receiver decides on the transmitted bit based on correlation with known templates.\n"
   ]
  },
  {
   "cell_type": "code",
   "execution_count": 225,
   "metadata": {},
   "outputs": [
    {
     "name": "stdout",
     "output_type": "stream",
     "text": [
      "Detected Bit: 1\n"
     ]
    }
   ],
   "source": [
    "def correlation_receiver(signal, reference_signal):\n",
    "    \"\"\"\n",
    "    Implement a correlation receiver for binary modulation.\n",
    "\n",
    "    Args:\n",
    "    signal (numpy.ndarray): Received signal.\n",
    "    reference_signal (numpy.ndarray): Reference signal (template) for correlation.\n",
    "\n",
    "    Returns:\n",
    "    int: Detected bit (0 or 1).\n",
    "    \"\"\"\n",
    "    correlation_output = np.correlate(signal, reference_signal, 'full')\n",
    "    decision_statistic = np.max(correlation_output)\n",
    "    return 1 if decision_statistic > 0 else 0\n",
    "\n",
    "# Example usage\n",
    "received_signal = np.random.randn(1000)  # Example received signal\n",
    "reference_signal = signal.windows.gaussian(1000, std=50)  # Example reference signal\n",
    "detected_bit = correlation_receiver(received_signal, reference_signal)\n",
    "print(f\"Detected Bit: {detected_bit}\")\n"
   ]
  },
  {
   "cell_type": "markdown",
   "metadata": {},
   "source": [
    "## Calculation of SNR and Probability of Error for Binary Modulation with a Given Shape of Pulse\n",
    "\n",
    "The signal-to-noise ratio (SNR) and probability of error are key metrics in assessing the performance of a binary modulation system.\n",
    "\n",
    "### Implementation\n",
    "- `calculate_snr_and_probability_of_error`: Calculates the SNR in dB and the probability of error for a given energy per bit, noise spectral density, and pulse shape.\n",
    "\n",
    "### Usage\n",
    "This function is critical for analyzing the performance of binary modulation systems, such as BPSK, under various noise conditions. It helps in understanding the trade-offs between signal power, noise, and error performance in digital communication systems.\n"
   ]
  },
  {
   "cell_type": "code",
   "execution_count": 226,
   "metadata": {},
   "outputs": [
    {
     "name": "stdout",
     "output_type": "stream",
     "text": [
      "SNR: 10.0 dB, Probability of Error: 3.872108215522035e-06\n"
     ]
    }
   ],
   "source": [
    "def calculate_snr_and_probability_of_error(Eb, N0, pulse_shape):\n",
    "    \"\"\"\n",
    "    Calculate the SNR and probability of error for binary modulation with a given pulse shape.\n",
    "\n",
    "    Args:\n",
    "    Eb (float): Energy per bit.\n",
    "    N0 (float): Noise spectral density.\n",
    "    pulse_shape (numpy.ndarray): The shape of the pulse.\n",
    "\n",
    "    Returns:\n",
    "    tuple: (SNR in dB, Probability of Error)\n",
    "    \"\"\"\n",
    "    # SNR calculation\n",
    "    SNR = Eb / N0\n",
    "    SNR_dB = 10 * np.log10(SNR)\n",
    "\n",
    "    # Probability of error calculation for BPSK (using Q-function)\n",
    "    Pe = Q_function(np.sqrt(2 * SNR))\n",
    "\n",
    "    return SNR_dB, Pe\n",
    "\n",
    "# Example usage\n",
    "Eb = 1  # Energy per bit\n",
    "N0 = 0.1  # Noise spectral density\n",
    "pulse_shape = signal.windows.gaussian(1000, std=50)\n",
    "SNR_dB, Pe = calculate_snr_and_probability_of_error(Eb, N0, pulse_shape)\n",
    "print(f\"SNR: {SNR_dB} dB, Probability of Error: {Pe}\")\n"
   ]
  },
  {
   "cell_type": "markdown",
   "metadata": {},
   "source": [
    "## I/Q Modulation and Demodulation\n",
    "\n",
    "I/Q modulation and demodulation are fundamental techniques in digital communication that involve manipulating the in-phase (I) and quadrature (Q) components of a signal.\n",
    "\n",
    "### Implementation\n",
    "- `iq_modulate`: Modulates a baseband signal onto a carrier frequency.\n",
    "- `iq_demodulate`: Demodulates the received signal back to baseband.\n",
    "\n",
    "### Usage\n",
    "I/Q modulation and demodulation are used in various communication systems for efficient transmission of data. This implementation is crucial for understanding how signals are modulated for transmission and demodulated upon reception.\n"
   ]
  },
  {
   "cell_type": "code",
   "execution_count": 227,
   "metadata": {},
   "outputs": [],
   "source": [
    "import numpy as np\n",
    "\n",
    "def iq_modulate(signal, carrier_freq, sampling_rate):\n",
    "    \"\"\"\n",
    "    Perform I/Q modulation on a given signal.\n",
    "\n",
    "    Args:\n",
    "    signal (numpy.ndarray): Baseband signal.\n",
    "    carrier_freq (float): Carrier frequency.\n",
    "    sampling_rate (float): Sampling rate of the system.\n",
    "\n",
    "    Returns:\n",
    "    numpy.ndarray: Modulated signal.\n",
    "    \"\"\"\n",
    "    t = np.arange(len(signal)) / sampling_rate\n",
    "    I = np.real(signal)\n",
    "    Q = np.imag(signal)\n",
    "    modulated_signal = I * np.cos(2 * np.pi * carrier_freq * t) - Q * np.sin(2 * np.pi * carrier_freq * t)\n",
    "    return modulated_signal\n",
    "\n",
    "def iq_demodulate(signal, carrier_freq, sampling_rate):\n",
    "    \"\"\"\n",
    "    Perform I/Q demodulation on a given signal.\n",
    "\n",
    "    Args:\n",
    "    signal (numpy.ndarray): Modulated signal.\n",
    "    carrier_freq (float): Carrier frequency.\n",
    "    sampling_rate (float): Sampling rate of the system.\n",
    "\n",
    "    Returns:\n",
    "    numpy.ndarray: Demodulated baseband signal.\n",
    "    \"\"\"\n",
    "    t = np.arange(len(signal)) / sampling_rate\n",
    "    I = signal * np.cos(2 * np.pi * carrier_freq * t)\n",
    "    Q = -signal * np.sin(2 * np.pi * carrier_freq * t)\n",
    "    demodulated_signal = I + 1j * Q\n",
    "    return demodulated_signal\n",
    "\n",
    "# Example usage\n",
    "carrier_freq = 1000  # Carrier frequency in Hz\n",
    "sampling_rate = 10000  # Sampling rate in Hz\n",
    "baseband_signal = np.random.randn(100) + 1j * np.random.randn(100)  # Random complex baseband signal\n",
    "\n",
    "modulated_signal = iq_modulate(baseband_signal, carrier_freq, sampling_rate)\n",
    "demodulated_signal = iq_demodulate(modulated_signal, carrier_freq, sampling_rate)\n"
   ]
  },
  {
   "cell_type": "markdown",
   "metadata": {},
   "source": [
    "## Mapping of Group of Symbols onto a Constellation\n",
    "\n",
    "Mapping symbols onto a constellation is a process where discrete symbols are represented as points in a signal constellation (like QPSK, 8PSK).\n",
    "\n",
    "### Implementation\n",
    "- `map_symbols_to_constellation`: Takes an array of symbols and maps them onto the specified constellation.\n",
    "\n",
    "### Usage\n",
    "This technique is essential in digital modulation schemes. Understanding constellation mapping is crucial for analyzing and designing modulation schemes in digital communication systems.\n"
   ]
  },
  {
   "cell_type": "code",
   "execution_count": 228,
   "metadata": {},
   "outputs": [],
   "source": [
    "def map_symbols_to_constellation(symbols, constellation):\n",
    "    \"\"\"\n",
    "    Map a group of symbols onto a constellation.\n",
    "\n",
    "    Args:\n",
    "    symbols (numpy.ndarray): Array of symbols to be mapped.\n",
    "    constellation (dict): Constellation mapping (e.g., for QPSK, 8PSK).\n",
    "\n",
    "    Returns:\n",
    "    numpy.ndarray: Mapped constellation points.\n",
    "    \"\"\"\n",
    "    mapped_points = np.array([constellation[symbol] for symbol in symbols])\n",
    "    return mapped_points\n",
    "\n",
    "# Example usage\n",
    "constellation = {0: (1+1j), 1: (1-1j), 2: (-1+1j), 3: (-1-1j)}  # Example QPSK constellation\n",
    "symbols = np.array([0, 1, 2, 3, 0, 1])\n",
    "mapped_points = map_symbols_to_constellation(symbols, constellation)\n"
   ]
  },
  {
   "cell_type": "markdown",
   "metadata": {},
   "source": [
    "## Decision Regions for Nearest Neighbor Detector\n",
    "\n",
    "Decision regions are areas in the constellation diagram where all points within that region are closest to a particular constellation point.\n",
    "\n",
    "### Implementation\n",
    "- `plot_decision_regions`: Plots the decision regions for a given constellation.\n",
    "\n",
    "### Usage\n",
    "Visualizing decision regions helps in understanding how a nearest neighbor detector operates in a digital communication system, which is crucial for analyzing the performance and error probabilities of modulation schemes.\n"
   ]
  },
  {
   "cell_type": "code",
   "execution_count": 229,
   "metadata": {},
   "outputs": [
    {
     "data": {
      "image/png": "[encoded data removed]",
      "text/plain": [
       "<Figure size 600x600 with 1 Axes>"
      ]
     },
     "metadata": {},
     "output_type": "display_data"
    }
   ],
   "source": [
    "import matplotlib.pyplot as plt\n",
    "\n",
    "def plot_decision_regions(constellation):\n",
    "    \"\"\"\n",
    "    Plot decision regions for a given constellation.\n",
    "\n",
    "    Args:\n",
    "    constellation (dict): Constellation mapping.\n",
    "\n",
    "    Returns:\n",
    "    None: Plots the decision regions.\n",
    "    \"\"\"\n",
    "    plt.figure(figsize=(6, 6))\n",
    "    for symbol, point in constellation.items():\n",
    "        plt.scatter(point.real, point.imag, label=f'Symbol {symbol}')\n",
    "    plt.axhline(0, color='gray')\n",
    "    plt.axvline(0, color='gray')\n",
    "    plt.xlabel('I')\n",
    "    plt.ylabel('Q')\n",
    "    plt.grid()\n",
    "    plt.legend()\n",
    "    plt.title('Constellation with Decision Regions')\n",
    "    plt.show()\n",
    "\n",
    "# Example usage\n",
    "constellation = {0: (1+1j), 1: (1-1j), 2: (-1+1j), 3: (-1-1j)}  # Example QPSK constellation\n",
    "plot_decision_regions(constellation)\n"
   ]
  },
  {
   "cell_type": "markdown",
   "metadata": {},
   "source": [
    "## Gray Encoding for I/Q Modulation\n",
    "\n",
    "Gray encoding is a binary encoding technique where two successive values differ in only one bit.\n",
    "\n",
    "### Implementation\n",
    "- `gray_encode`: Converts a binary sequence to its Gray encoded equivalent.\n",
    "\n",
    "### Usage\n",
    "Gray encoding is often used in digital communication, especially in I/Q modulation, to minimize errors during the signal transmission. Understanding Gray encoding is important for designing error-resistant communication systems.\n"
   ]
  },
  {
   "cell_type": "code",
   "execution_count": 230,
   "metadata": {},
   "outputs": [
    {
     "name": "stdout",
     "output_type": "stream",
     "text": [
      "Gray Encoded Sequence: 1011\n"
     ]
    }
   ],
   "source": [
    "def gray_encode(bits):\n",
    "    \"\"\"\n",
    "    Perform Gray encoding on a binary sequence.\n",
    "\n",
    "    Args:\n",
    "    bits (str): Binary sequence as a string.\n",
    "\n",
    "    Returns:\n",
    "    str: Gray encoded binary sequence.\n",
    "    \"\"\"\n",
    "    gray_encoded = bits[0]\n",
    "    for i in range(1, len(bits)):\n",
    "        gray_encoded += str(int(bits[i-1]) ^ int(bits[i]))\n",
    "    return gray_encoded\n",
    "\n",
    "# Example usage\n",
    "binary_sequence = '1101'\n",
    "gray_encoded_sequence = gray_encode(binary_sequence)\n",
    "print(f\"Gray Encoded Sequence: {gray_encoded_sequence}\")\n"
   ]
  },
  {
   "cell_type": "markdown",
   "metadata": {},
   "source": [
    "## M-ary Modulation\n",
    "\n",
    "M-ary modulation is a method in digital communication where symbols representing log2(M) bits are transmitted using one of M possible signals.\n",
    "\n",
    "### Implementation\n",
    "- `m_ary_modulation`: Modulates an array of symbols using M-ary modulation.\n",
    "\n",
    "### Usage\n",
    "Understanding M-ary modulation is crucial for analyzing trade-offs between bandwidth efficiency and power efficiency in communication systems. This concept is often examined in questions concerning modulation schemes and their performance.\n"
   ]
  },
  {
   "cell_type": "code",
   "execution_count": 231,
   "metadata": {},
   "outputs": [],
   "source": [
    "import numpy as np\n",
    "\n",
    "def m_ary_modulation(m, symbols):\n",
    "    \"\"\"\n",
    "    Perform M-ary modulation.\n",
    "\n",
    "    Args:\n",
    "    m (int): Number of symbols in the M-ary modulation (e.g., 4 for QPSK).\n",
    "    symbols (numpy.ndarray): Array of symbols (integers) to be modulated.\n",
    "\n",
    "    Returns:\n",
    "    numpy.ndarray: Modulated signal.\n",
    "    \"\"\"\n",
    "    # Generate constellation points\n",
    "    constellation = np.exp(2j * np.pi * np.arange(m) / m)\n",
    "\n",
    "    # Map symbols to constellation points\n",
    "    modulated_signal = np.array([constellation[symbol] for symbol in symbols])\n",
    "    return modulated_signal\n",
    "\n",
    "# Example usage\n",
    "m = 4  # QPSK\n",
    "symbols = np.array([0, 1, 2, 3])  # Example symbols\n",
    "modulated_signal = m_ary_modulation(m, symbols)\n"
   ]
  },
  {
   "cell_type": "markdown",
   "metadata": {},
   "source": [
    "## BER and SER for M-Ary Modulations\n",
    "\n",
    "BER (Bit Error Rate) and SER (Symbol Error Rate) are key performance metrics in digital communication systems using M-ary modulations.\n",
    "\n",
    "### Implementation\n",
    "- `calculate_ber_ser`: Provides a framework to calculate BER and SER based on the modulation order (M) and signal-to-noise ratio (SNR).\n",
    "\n",
    "### Usage\n",
    "In exams, questions on BER and SER help evaluate understanding of the reliability and efficiency of different modulation schemes under various noise conditions.\n"
   ]
  },
  {
   "cell_type": "code",
   "execution_count": 232,
   "metadata": {},
   "outputs": [
    {
     "ename": "AttributeError",
     "evalue": "module 'numpy' has no attribute 'erfc'",
     "output_type": "error",
     "traceback": [
      "\u001b[1;31m---------------------------------------------------------------------------\u001b[0m",
      "\u001b[1;31mAttributeError\u001b[0m                            Traceback (most recent call last)",
      "\u001b[1;32mf:\\~Year 4, Semester 1\\ECE 4437A\\comms-theory-ece4437\\finalQs.ipynb Cell 65\u001b[0m line \u001b[0;36m3\n\u001b[0;32m     <a href='vscode-notebook-cell:/f%3A/~Year%204%2C%20Semester%201/ECE%204437A/comms-theory-ece4437/finalQs.ipynb#Y122sZmlsZQ%3D%3D?line=31'>32</a>\u001b[0m m \u001b[39m=\u001b[39m \u001b[39m4\u001b[39m  \u001b[39m# For QPSK\u001b[39;00m\n\u001b[0;32m     <a href='vscode-notebook-cell:/f%3A/~Year%204%2C%20Semester%201/ECE%204437A/comms-theory-ece4437/finalQs.ipynb#Y122sZmlsZQ%3D%3D?line=32'>33</a>\u001b[0m snr_db \u001b[39m=\u001b[39m \u001b[39m10\u001b[39m  \u001b[39m# Example SNR value in dB\u001b[39;00m\n\u001b[1;32m---> <a href='vscode-notebook-cell:/f%3A/~Year%204%2C%20Semester%201/ECE%204437A/comms-theory-ece4437/finalQs.ipynb#Y122sZmlsZQ%3D%3D?line=33'>34</a>\u001b[0m ber, ser \u001b[39m=\u001b[39m calculate_ber_ser(m, snr_db)\n\u001b[0;32m     <a href='vscode-notebook-cell:/f%3A/~Year%204%2C%20Semester%201/ECE%204437A/comms-theory-ece4437/finalQs.ipynb#Y122sZmlsZQ%3D%3D?line=34'>35</a>\u001b[0m \u001b[39mprint\u001b[39m(\u001b[39mf\u001b[39m\u001b[39m\"\u001b[39m\u001b[39mBER: \u001b[39m\u001b[39m{\u001b[39;00mber\u001b[39m}\u001b[39;00m\u001b[39m\"\u001b[39m)\n\u001b[0;32m     <a href='vscode-notebook-cell:/f%3A/~Year%204%2C%20Semester%201/ECE%204437A/comms-theory-ece4437/finalQs.ipynb#Y122sZmlsZQ%3D%3D?line=35'>36</a>\u001b[0m \u001b[39mprint\u001b[39m(\u001b[39mf\u001b[39m\u001b[39m\"\u001b[39m\u001b[39mSER: \u001b[39m\u001b[39m{\u001b[39;00mser\u001b[39m}\u001b[39;00m\u001b[39m\"\u001b[39m)\n",
      "\u001b[1;32mf:\\~Year 4, Semester 1\\ECE 4437A\\comms-theory-ece4437\\finalQs.ipynb Cell 65\u001b[0m line \u001b[0;36m2\n\u001b[0;32m     <a href='vscode-notebook-cell:/f%3A/~Year%204%2C%20Semester%201/ECE%204437A/comms-theory-ece4437/finalQs.ipynb#Y122sZmlsZQ%3D%3D?line=17'>18</a>\u001b[0m     ser \u001b[39m=\u001b[39m ber\n\u001b[0;32m     <a href='vscode-notebook-cell:/f%3A/~Year%204%2C%20Semester%201/ECE%204437A/comms-theory-ece4437/finalQs.ipynb#Y122sZmlsZQ%3D%3D?line=18'>19</a>\u001b[0m \u001b[39melif\u001b[39;00m m \u001b[39m==\u001b[39m \u001b[39m4\u001b[39m:  \u001b[39m# QPSK\u001b[39;00m\n\u001b[1;32m---> <a href='vscode-notebook-cell:/f%3A/~Year%204%2C%20Semester%201/ECE%204437A/comms-theory-ece4437/finalQs.ipynb#Y122sZmlsZQ%3D%3D?line=19'>20</a>\u001b[0m     ber \u001b[39m=\u001b[39m \u001b[39m0.5\u001b[39m \u001b[39m*\u001b[39m np\u001b[39m.\u001b[39;49merfc(np\u001b[39m.\u001b[39msqrt(snr_linear))\n\u001b[0;32m     <a href='vscode-notebook-cell:/f%3A/~Year%204%2C%20Semester%201/ECE%204437A/comms-theory-ece4437/finalQs.ipynb#Y122sZmlsZQ%3D%3D?line=20'>21</a>\u001b[0m     ser \u001b[39m=\u001b[39m \u001b[39m1\u001b[39m \u001b[39m-\u001b[39m (\u001b[39m1\u001b[39m \u001b[39m-\u001b[39m ber) \u001b[39m*\u001b[39m\u001b[39m*\u001b[39m \u001b[39m2\u001b[39m\n\u001b[0;32m     <a href='vscode-notebook-cell:/f%3A/~Year%204%2C%20Semester%201/ECE%204437A/comms-theory-ece4437/finalQs.ipynb#Y122sZmlsZQ%3D%3D?line=21'>22</a>\u001b[0m \u001b[39melif\u001b[39;00m m \u001b[39m==\u001b[39m \u001b[39m16\u001b[39m:  \u001b[39m# 16-QAM\u001b[39;00m\n",
      "File \u001b[1;32mc:\\Users\\Cameron\\AppData\\Local\\Programs\\Python\\Python312\\Lib\\site-packages\\numpy\\__init__.py:347\u001b[0m, in \u001b[0;36m__getattr__\u001b[1;34m(attr)\u001b[0m\n\u001b[0;32m    344\u001b[0m     \u001b[39m\"\u001b[39m\u001b[39mRemoved in NumPy 1.25.0\u001b[39m\u001b[39m\"\u001b[39m\n\u001b[0;32m    345\u001b[0m     \u001b[39mraise\u001b[39;00m \u001b[39mRuntimeError\u001b[39;00m(\u001b[39m\"\u001b[39m\u001b[39mTester was removed in NumPy 1.25.\u001b[39m\u001b[39m\"\u001b[39m)\n\u001b[1;32m--> 347\u001b[0m \u001b[39mraise\u001b[39;00m \u001b[39mAttributeError\u001b[39;00m(\u001b[39m\"\u001b[39m\u001b[39mmodule \u001b[39m\u001b[39m{!r}\u001b[39;00m\u001b[39m has no attribute \u001b[39m\u001b[39m\"\u001b[39m\n\u001b[0;32m    348\u001b[0m                      \u001b[39m\"\u001b[39m\u001b[39m{!r}\u001b[39;00m\u001b[39m\"\u001b[39m\u001b[39m.\u001b[39mformat(\u001b[39m__name__\u001b[39m, attr))\n",
      "\u001b[1;31mAttributeError\u001b[0m: module 'numpy' has no attribute 'erfc'"
     ]
    }
   ],
   "source": [
    "import numpy as np\n",
    "\n",
    "def calculate_ber_ser(m, snr_db):\n",
    "    \"\"\"\n",
    "    Calculate BER and SER for M-Ary modulations.\n",
    "\n",
    "    Args:\n",
    "    m (int): Number of symbols in the M-ary modulation.\n",
    "    snr_db (float): Signal-to-Noise Ratio in dB.\n",
    "\n",
    "    Returns:\n",
    "    tuple: (BER, SER)\n",
    "    \"\"\"\n",
    "    snr_linear = 10 ** (snr_db / 10)\n",
    "\n",
    "    if m == 2:  # BPSK\n",
    "        ber = 0.5 * np.exp(-snr_linear)\n",
    "        ser = ber\n",
    "    elif m == 4:  # QPSK\n",
    "        ber = 0.5 * np.erfc(np.sqrt(snr_linear))\n",
    "        ser = 1 - (1 - ber) ** 2\n",
    "    elif m == 16:  # 16-QAM\n",
    "        ser = 3/2 * np.erfc(np.sqrt(0.4 * snr_linear))\n",
    "        ber = ser / 4  # Approximation\n",
    "    else:\n",
    "        ber = None  # BER for other modulations need specific formulas\n",
    "        ser = None  # SER for other modulations need specific formulas\n",
    "\n",
    "    return ber, ser\n",
    "\n",
    "# Example usage\n",
    "m = 4  # For QPSK\n",
    "snr_db = 10  # Example SNR value in dB\n",
    "ber, ser = calculate_ber_ser(m, snr_db)\n",
    "print(f\"BER: {ber}\")\n",
    "print(f\"SER: {ser}\")"
   ]
  },
  {
   "cell_type": "markdown",
   "metadata": {},
   "source": [
    "## Choice of Modulation for a Given \\( P_{\\text{err}} \\)\n",
    "\n",
    "Selecting an appropriate modulation scheme for a given target error probability is a critical decision in communication system design.\n",
    "\n",
    "### Implementation\n",
    "- `choose_modulation`: Suggests a modulation scheme based on the desired error probability and SNR.\n",
    "\n",
    "### Usage\n",
    "This concept is vital for determining the most suitable modulation scheme to meet specific performance criteria, often a topic in exam scenarios focusing on system design and optimization.\n"
   ]
  },
  {
   "cell_type": "code",
   "execution_count": null,
   "metadata": {},
   "outputs": [
    {
     "name": "stdout",
     "output_type": "stream",
     "text": [
      "16-QAM\n"
     ]
    }
   ],
   "source": [
    "def choose_modulation(error_prob_target, snr, modulation_options):\n",
    "    \"\"\"\n",
    "    Choose a modulation scheme based on a given error probability target and SNR.\n",
    "\n",
    "    Args:\n",
    "    error_prob_target (float): Target error probability (e.g., BER).\n",
    "    snr (float): Signal-to-Noise Ratio in dB.\n",
    "    modulation_options (dict): A dictionary containing modulation schemes and their corresponding performance thresholds.\n",
    "\n",
    "    Returns:\n",
    "    str: Suggested modulation scheme.\n",
    "    \"\"\"\n",
    "    # Sort the modulation options based on their performance (lower error probability is better)\n",
    "    sorted_options = sorted(modulation_options.items(), key=lambda x: x[1]['error_prob'])\n",
    "\n",
    "    for modulation, performance in sorted_options:\n",
    "        if snr >= performance['snr_threshold'] and error_prob_target >= performance['error_prob']:\n",
    "            return modulation\n",
    "    \n",
    "    return \"No suitable modulation found\"\n",
    "\n",
    "# Example usage\n",
    "modulation_options = {\n",
    "    \"BPSK\": {\"error_prob\": 1e-3, \"snr_threshold\": 10},\n",
    "    \"QPSK\": {\"error_prob\": 1e-4, \"snr_threshold\": 12},\n",
    "    \"16-QAM\": {\"error_prob\": 1e-5, \"snr_threshold\": 16},\n",
    "    \"64-QAM\": {\"error_prob\": 1e-6, \"snr_threshold\": 20}\n",
    "}\n",
    "\n",
    "error_prob_target = 1e-4\n",
    "snr = 15  # Example SNR value in dB\n",
    "modulation_scheme = choose_modulation(error_prob_target, snr, modulation_options)\n",
    "print(modulation_scheme)\n"
   ]
  },
  {
   "cell_type": "markdown",
   "metadata": {},
   "source": [
    "## Calculation of SER Based on Transmitted Power, Distance, Antenna Gains, and Bandwidth\n",
    "\n",
    "Calculating the Symbol Error Rate (SER) based on system parameters like transmitted power, distance, and antenna gains is crucial for link budget analysis in communication systems.\n",
    "\n",
    "### Implementation\n",
    "- `calculate_ser`: Provides a structure to calculate SER considering transmitted power, distance, antenna gains, and bandwidth.\n",
    "\n",
    "### Usage\n",
    "This calculation is essential in understanding the link budget and the impact of various physical parameters on the performance of a communication system, often a critical part of exam questions related to system design and analysis.\n"
   ]
  },
  {
   "cell_type": "code",
   "execution_count": null,
   "metadata": {},
   "outputs": [
    {
     "name": "stdout",
     "output_type": "stream",
     "text": [
      "Calculated SER: 0.0\n"
     ]
    }
   ],
   "source": [
    "import numpy as np\n",
    "from scipy.stats import norm\n",
    "\n",
    "def Q(x):\n",
    "    \"\"\"\n",
    "    Calculate the Q-function, which is the tail probability of the Gaussian distribution.\n",
    "\n",
    "    Args:\n",
    "    x (float): Value for which Q-function is calculated.\n",
    "\n",
    "    Returns:\n",
    "    float: Q-function value.\n",
    "    \"\"\"\n",
    "    return norm.sf(x)\n",
    "\n",
    "def calculate_ser(transmitted_power, distance, antenna_gain_tx, antenna_gain_rx, bandwidth, noise_figure=1):\n",
    "    \"\"\"\n",
    "    Calculate the Symbol Error Rate (SER) based on transmitted power, distance, antenna gains, bandwidth, and noise figure.\n",
    "\n",
    "    Args:\n",
    "    transmitted_power (float): Transmitted power in Watts.\n",
    "    distance (float): Distance between transmitter and receiver in meters.\n",
    "    antenna_gain_tx (float): Transmitting antenna gain (linear scale).\n",
    "    antenna_gain_rx (float): Receiving antenna gain (linear scale).\n",
    "    bandwidth (float): Bandwidth in Hz.\n",
    "    noise_figure (float): Noise figure of the receiver (default is 1, which is typical for a noiseless receiver).\n",
    "\n",
    "    Returns:\n",
    "    float: Calculated Symbol Error Rate (SER).\n",
    "    \"\"\"\n",
    "    # Constants\n",
    "    c = 3e8  # Speed of light (m/s)\n",
    "    k = 1.38e-23  # Boltzmann constant (J/K)\n",
    "\n",
    "    # Frequency (assuming a center frequency of c / (2 * pi * distance))\n",
    "    frequency = c / (2 * np.pi * distance)\n",
    "\n",
    "    # Wavelength\n",
    "    wavelength = c / frequency\n",
    "\n",
    "    # Friis transmission equation to calculate received power\n",
    "    received_power = transmitted_power * antenna_gain_tx * antenna_gain_rx * (wavelength / (4 * np.pi * distance))**2\n",
    "\n",
    "    # Noise power (Assuming room temperature in Kelvin)\n",
    "    temperature = 290  # in Kelvin\n",
    "    noise_power = k * temperature * bandwidth * noise_figure\n",
    "\n",
    "    # Signal to Noise Ratio (SNR)\n",
    "    snr = received_power / noise_power\n",
    "\n",
    "    # SER calculation for BPSK (assuming an AWGN channel)\n",
    "    ser = Q(np.sqrt(2 * snr))\n",
    "\n",
    "    return ser\n",
    "\n",
    "# Example usage\n",
    "transmitted_power = 100  # in Watts\n",
    "distance = 1000  # in meters\n",
    "antenna_gain_tx = 15  # Linear scale\n",
    "antenna_gain_rx = 15  # Linear scale\n",
    "bandwidth = 1000000  # 1 MHz\n",
    "noise_figure = 1  # Default noise figure\n",
    "ser = calculate_ser(transmitted_power, distance, antenna_gain_tx, antenna_gain_rx, bandwidth, noise_figure)\n",
    "\n",
    "print(f\"Calculated SER: {ser}\")"
   ]
  },
  {
   "cell_type": "markdown",
   "metadata": {},
   "source": [
    "## Distortions Caused by Fading Channel: Amplitude Distortions and Phase Distortion\n",
    "\n",
    "Fading channels in communication systems can cause amplitude and phase distortions in transmitted signals.\n",
    "\n",
    "### Implementation\n",
    "- `simulate_fading_channel`: Simulates the effect of a fading channel on a signal, applying both amplitude and phase distortions.\n",
    "\n",
    "### Usage\n",
    "Understanding the impact of fading channels is crucial for designing robust communication systems. This function can be used to illustrate how fading affects signal quality, which is a common topic in advanced communication theory exams.\n"
   ]
  },
  {
   "cell_type": "code",
   "execution_count": null,
   "metadata": {},
   "outputs": [
    {
     "data": {
      "image/png": "[encoded data removed]",
      "text/plain": [
       "<Figure size 640x480 with 1 Axes>"
      ]
     },
     "metadata": {},
     "output_type": "display_data"
    }
   ],
   "source": [
    "import numpy as np\n",
    "import matplotlib.pyplot as plt\n",
    "\n",
    "def simulate_fading_channel(signal, fading_factor):\n",
    "    \"\"\"\n",
    "    Simulate amplitude and phase distortions caused by a fading channel.\n",
    "\n",
    "    Args:\n",
    "    signal (numpy.ndarray): Input signal.\n",
    "    fading_factor (float): Fading factor to simulate the effect of the channel.\n",
    "\n",
    "    Returns:\n",
    "    numpy.ndarray: Signal distorted by the fading channel.\n",
    "    \"\"\"\n",
    "    # Amplitude distortion\n",
    "    amplitude_distorted = fading_factor * signal\n",
    "\n",
    "    # Phase distortion\n",
    "    phase_distorted = np.exp(1j * np.pi * fading_factor) * amplitude_distorted\n",
    "\n",
    "    return phase_distorted\n",
    "\n",
    "# Example usage\n",
    "signal = np.exp(1j * 2 * np.pi * 0.01 * np.arange(1000))  # Example signal (complex exponential)\n",
    "fading_factor = 0.5  # Example fading factor\n",
    "distorted_signal = simulate_fading_channel(signal, fading_factor)\n",
    "\n",
    "# Plot the real parts of the original and distorted signals\n",
    "plt.plot(np.real(signal), label='Original Signal')\n",
    "plt.plot(np.real(distorted_signal), label='Distorted Signal')\n",
    "plt.legend()\n",
    "plt.xlabel('Sample')\n",
    "plt.ylabel('Amplitude')\n",
    "plt.title('Effect of Fading on Signal')\n",
    "plt.show()"
   ]
  },
  {
   "cell_type": "markdown",
   "metadata": {},
   "source": [
    "## Eye Pattern and Its Use for Identifying Distortions and Channel Impairments\n",
    "\n",
    "The eye pattern is a tool used in digital communication to analyze the quality of a received digital signal and to identify distortions and channel impairments.\n",
    "\n",
    "### Implementation\n",
    "- `plot_eye_pattern`: Plots the eye pattern for a given digital signal, which is useful for visualizing intersymbol interference (ISI), amplitude and phase distortions, and timing errors.\n",
    "\n",
    "### Usage\n",
    "This tool is essential for visual inspection and qualitative analysis of a communication system's performance, especially in the presence of noise and distortion. It's commonly used in exams to assess understanding of signal quality and impairments in digital communication systems.\n"
   ]
  },
  {
   "cell_type": "code",
   "execution_count": 233,
   "metadata": {},
   "outputs": [
    {
     "data": {
      "image/png": "[encoded data removed]",
      "text/plain": [
       "<Figure size 1000x600 with 1 Axes>"
      ]
     },
     "metadata": {},
     "output_type": "display_data"
    }
   ],
   "source": [
    "import numpy as np\n",
    "import matplotlib.pyplot as plt\n",
    "\n",
    "def plot_eye_pattern(signal, samples_per_symbol):\n",
    "    \"\"\"\n",
    "    Plot the eye pattern of a signal.\n",
    "\n",
    "    Args:\n",
    "    signal (numpy.ndarray): Signal for which to plot the eye pattern.\n",
    "    samples_per_symbol (int): Number of samples per symbol.\n",
    "\n",
    "    Returns:\n",
    "    None: Plots the eye pattern.\n",
    "    \"\"\"\n",
    "    num_symbols = len(signal) // samples_per_symbol\n",
    "    plt.figure(figsize=(10, 6))\n",
    "\n",
    "    for i in range(num_symbols - 1):\n",
    "        plt.plot(signal[i * samples_per_symbol:(i + 2) * samples_per_symbol])\n",
    "    \n",
    "    plt.title('Eye Pattern')\n",
    "    plt.xlabel('Sample')\n",
    "    plt.ylabel('Amplitude')\n",
    "    plt.grid()\n",
    "    plt.show()\n",
    "\n",
    "# Generating a test signal\n",
    "sampling_rate = 1000  # Sample rate in Hz\n",
    "duration = 1  # Duration of signal in seconds\n",
    "t = np.linspace(0, duration, sampling_rate * duration, endpoint=False)\n",
    "frequency = 5  # Frequency of the sinusoidal signal\n",
    "signal = np.sin(2 * np.pi * frequency * t)\n",
    "\n",
    "# Example usage\n",
    "samples_per_symbol = 50  # For example, if the symbol rate is 1/50 of the sampling rate\n",
    "plot_eye_pattern(signal, samples_per_symbol)\n"
   ]
  }
 ],
 "metadata": {
  "kernelspec": {
   "display_name": "Python 3",
   "language": "python",
   "name": "python3"
  },
  "language_info": {
   "codemirror_mode": {
    "name": "ipython",
    "version": 3
   },
   "file_extension": ".py",
   "mimetype": "text/x-python",
   "name": "python",
   "nbconvert_exporter": "python",
   "pygments_lexer": "ipython3",
   "version": "3.12.0"
  }
 },
 "nbformat": 4,
 "nbformat_minor": 2
}
